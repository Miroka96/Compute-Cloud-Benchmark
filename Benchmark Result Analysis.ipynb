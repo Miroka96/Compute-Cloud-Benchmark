{
 "cells": [
  {
   "cell_type": "code",
   "execution_count": 2,
   "metadata": {},
   "outputs": [],
   "source": [
    "clouds = [('google', 'google'), ('amazon', 'ec2')]"
   ]
  },
  {
   "cell_type": "code",
   "execution_count": 3,
   "metadata": {},
   "outputs": [],
   "source": [
    "benchmarks = ['cpu', 'disk-random', 'disk-sequential', 'mem']"
   ]
  },
  {
   "cell_type": "code",
   "execution_count": 16,
   "metadata": {},
   "outputs": [],
   "source": [
    "import statistics"
   ]
  },
  {
   "cell_type": "code",
   "execution_count": 30,
   "metadata": {},
   "outputs": [
    {
     "name": "stdout",
     "output_type": "stream",
     "text": [
      "opened google/google-cpu.csv\n",
      "Average: 1932856.225159417\n",
      "Standard Deviation: 286921.32073484967\n",
      "\n",
      "opened google/google-disk-random.csv\n",
      "Average: 2312.9375\n",
      "Standard Deviation: 3.076377048523287\n",
      "\n",
      "opened google/google-disk-sequential.csv\n",
      "Average: 10854166.666666666\n",
      "Standard Deviation: 356673.9576374165\n",
      "\n",
      "opened google/google-mem.csv\n",
      "Average: 31.764393770833326\n",
      "Standard Deviation: 4.755616590800444\n",
      "\n",
      "opened amazon/ec2-cpu.csv\n",
      "Average: 2285472.0431722817\n",
      "Standard Deviation: 60855.60080255566\n",
      "\n",
      "opened amazon/ec2-disk-random.csv\n",
      "Average: 13732.553846153845\n",
      "Standard Deviation: 25880.210111342058\n",
      "\n",
      "opened amazon/ec2-disk-sequential.csv\n",
      "Average: 254913043.47826087\n",
      "Standard Deviation: 23433723.267745104\n",
      "\n",
      "opened amazon/ec2-mem.csv\n",
      "Average: 5.059671352112676\n",
      "Standard Deviation: 0.18437336507533514\n",
      "\n"
     ]
    }
   ],
   "source": [
    "for cloud in clouds:\n",
    "    for benchmark in benchmarks:\n",
    "        filename = '{}/{}-{}.csv'.format(cloud[0], cloud[1], benchmark)\n",
    "        csv = open(filename)\n",
    "        print(\"opened {}\".format(filename))\n",
    "        time_values = [line.split(\",\") for line in csv]\n",
    "        measures = [float(value) for _, value in time_values]\n",
    "        avg = sum(measures) / float(len(measures))\n",
    "        sdev = statistics.stdev(measures)\n",
    "        print(\"Average: {}\".format(avg))\n",
    "        print(\"Standard Deviation: {}\".format(sdev))\n",
    "        \n",
    "        i = 2\n",
    "        last = int(time_values[0][0])\n",
    "        for time in [int(time) for time, _ in time_values[1:]]:\n",
    "            if time < last + 60*45 or time > last + 60 * 75:\n",
    "                print(i)\n",
    "            i += 1\n",
    "            last = time\n",
    "        \n",
    "        print()"
   ]
  },
  {
   "cell_type": "code",
   "execution_count": null,
   "metadata": {},
   "outputs": [],
   "source": []
  }
 ],
 "metadata": {
  "kernelspec": {
   "display_name": "Python 3",
   "language": "python",
   "name": "python3"
  },
  "language_info": {
   "codemirror_mode": {
    "name": "ipython",
    "version": 3
   },
   "file_extension": ".py",
   "mimetype": "text/x-python",
   "name": "python",
   "nbconvert_exporter": "python",
   "pygments_lexer": "ipython3",
   "version": "3.6.7"
  }
 },
 "nbformat": 4,
 "nbformat_minor": 2
}
